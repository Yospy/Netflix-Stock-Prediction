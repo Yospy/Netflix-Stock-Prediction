{
  "nbformat": 4,
  "nbformat_minor": 0,
  "metadata": {
    "colab": {
      "name": "Netflix Stock Prediction.ipynb",
      "provenance": [],
      "authorship_tag": "ABX9TyPP+Byi1tyXsgBgrFhh/2/B",
      "include_colab_link": true
    },
    "kernelspec": {
      "name": "python3",
      "display_name": "Python 3"
    },
    "language_info": {
      "name": "python"
    }
  },
  "cells": [
    {
      "cell_type": "markdown",
      "metadata": {
        "id": "view-in-github",
        "colab_type": "text"
      },
      "source": [
        "<a href=\"https://colab.research.google.com/github/Yospy/Netflix-Stock-Prediction/blob/main/Netflix_Stock_Prediction.ipynb\" target=\"_parent\"><img src=\"https://colab.research.google.com/assets/colab-badge.svg\" alt=\"Open In Colab\"/></a>"
      ]
    },
    {
      "cell_type": "code",
      "execution_count": 1,
      "metadata": {
        "id": "j4shlvBeytUb"
      },
      "outputs": [],
      "source": [
        "import pandas as pd\n",
        "from numpy import *\n",
        "import matplotlib.pyplot as plt"
      ]
    },
    {
      "cell_type": "code",
      "source": [
        "df = pd.read_csv(\"/content/NFLX.csv\")\n",
        "df.head()"
      ],
      "metadata": {
        "colab": {
          "base_uri": "https://localhost:8080/",
          "height": 204
        },
        "id": "Uy9OzgKRy-ge",
        "outputId": "2c6e1984-63ca-4e8f-ee27-ed9a07dc1617"
      },
      "execution_count": 2,
      "outputs": [
        {
          "output_type": "execute_result",
          "data": {
            "text/plain": [
              "         Date        Open        High         Low       Close   Adj Close  \\\n",
              "0  2021-03-26  502.820007  508.720001  496.679993  508.049988  508.049988   \n",
              "1  2021-03-29  505.660004  518.000000  504.399994  513.950012  513.950012   \n",
              "2  2021-03-30  510.510010  514.409973  506.910004  513.390015  513.390015   \n",
              "3  2021-03-31  515.669983  528.130005  515.440002  521.659973  521.659973   \n",
              "4  2021-04-01  529.929993  540.500000  527.030029  539.419983  539.419983   \n",
              "\n",
              "    Volume  \n",
              "0  3467800  \n",
              "1  3330000  \n",
              "2  2418100  \n",
              "3  3503100  \n",
              "4  3938600  "
            ],
            "text/html": [
              "\n",
              "  <div id=\"df-2365ec90-4ced-460b-9081-ddfb326e541d\">\n",
              "    <div class=\"colab-df-container\">\n",
              "      <div>\n",
              "<style scoped>\n",
              "    .dataframe tbody tr th:only-of-type {\n",
              "        vertical-align: middle;\n",
              "    }\n",
              "\n",
              "    .dataframe tbody tr th {\n",
              "        vertical-align: top;\n",
              "    }\n",
              "\n",
              "    .dataframe thead th {\n",
              "        text-align: right;\n",
              "    }\n",
              "</style>\n",
              "<table border=\"1\" class=\"dataframe\">\n",
              "  <thead>\n",
              "    <tr style=\"text-align: right;\">\n",
              "      <th></th>\n",
              "      <th>Date</th>\n",
              "      <th>Open</th>\n",
              "      <th>High</th>\n",
              "      <th>Low</th>\n",
              "      <th>Close</th>\n",
              "      <th>Adj Close</th>\n",
              "      <th>Volume</th>\n",
              "    </tr>\n",
              "  </thead>\n",
              "  <tbody>\n",
              "    <tr>\n",
              "      <th>0</th>\n",
              "      <td>2021-03-26</td>\n",
              "      <td>502.820007</td>\n",
              "      <td>508.720001</td>\n",
              "      <td>496.679993</td>\n",
              "      <td>508.049988</td>\n",
              "      <td>508.049988</td>\n",
              "      <td>3467800</td>\n",
              "    </tr>\n",
              "    <tr>\n",
              "      <th>1</th>\n",
              "      <td>2021-03-29</td>\n",
              "      <td>505.660004</td>\n",
              "      <td>518.000000</td>\n",
              "      <td>504.399994</td>\n",
              "      <td>513.950012</td>\n",
              "      <td>513.950012</td>\n",
              "      <td>3330000</td>\n",
              "    </tr>\n",
              "    <tr>\n",
              "      <th>2</th>\n",
              "      <td>2021-03-30</td>\n",
              "      <td>510.510010</td>\n",
              "      <td>514.409973</td>\n",
              "      <td>506.910004</td>\n",
              "      <td>513.390015</td>\n",
              "      <td>513.390015</td>\n",
              "      <td>2418100</td>\n",
              "    </tr>\n",
              "    <tr>\n",
              "      <th>3</th>\n",
              "      <td>2021-03-31</td>\n",
              "      <td>515.669983</td>\n",
              "      <td>528.130005</td>\n",
              "      <td>515.440002</td>\n",
              "      <td>521.659973</td>\n",
              "      <td>521.659973</td>\n",
              "      <td>3503100</td>\n",
              "    </tr>\n",
              "    <tr>\n",
              "      <th>4</th>\n",
              "      <td>2021-04-01</td>\n",
              "      <td>529.929993</td>\n",
              "      <td>540.500000</td>\n",
              "      <td>527.030029</td>\n",
              "      <td>539.419983</td>\n",
              "      <td>539.419983</td>\n",
              "      <td>3938600</td>\n",
              "    </tr>\n",
              "  </tbody>\n",
              "</table>\n",
              "</div>\n",
              "      <button class=\"colab-df-convert\" onclick=\"convertToInteractive('df-2365ec90-4ced-460b-9081-ddfb326e541d')\"\n",
              "              title=\"Convert this dataframe to an interactive table.\"\n",
              "              style=\"display:none;\">\n",
              "        \n",
              "  <svg xmlns=\"http://www.w3.org/2000/svg\" height=\"24px\"viewBox=\"0 0 24 24\"\n",
              "       width=\"24px\">\n",
              "    <path d=\"M0 0h24v24H0V0z\" fill=\"none\"/>\n",
              "    <path d=\"M18.56 5.44l.94 2.06.94-2.06 2.06-.94-2.06-.94-.94-2.06-.94 2.06-2.06.94zm-11 1L8.5 8.5l.94-2.06 2.06-.94-2.06-.94L8.5 2.5l-.94 2.06-2.06.94zm10 10l.94 2.06.94-2.06 2.06-.94-2.06-.94-.94-2.06-.94 2.06-2.06.94z\"/><path d=\"M17.41 7.96l-1.37-1.37c-.4-.4-.92-.59-1.43-.59-.52 0-1.04.2-1.43.59L10.3 9.45l-7.72 7.72c-.78.78-.78 2.05 0 2.83L4 21.41c.39.39.9.59 1.41.59.51 0 1.02-.2 1.41-.59l7.78-7.78 2.81-2.81c.8-.78.8-2.07 0-2.86zM5.41 20L4 18.59l7.72-7.72 1.47 1.35L5.41 20z\"/>\n",
              "  </svg>\n",
              "      </button>\n",
              "      \n",
              "  <style>\n",
              "    .colab-df-container {\n",
              "      display:flex;\n",
              "      flex-wrap:wrap;\n",
              "      gap: 12px;\n",
              "    }\n",
              "\n",
              "    .colab-df-convert {\n",
              "      background-color: #E8F0FE;\n",
              "      border: none;\n",
              "      border-radius: 50%;\n",
              "      cursor: pointer;\n",
              "      display: none;\n",
              "      fill: #1967D2;\n",
              "      height: 32px;\n",
              "      padding: 0 0 0 0;\n",
              "      width: 32px;\n",
              "    }\n",
              "\n",
              "    .colab-df-convert:hover {\n",
              "      background-color: #E2EBFA;\n",
              "      box-shadow: 0px 1px 2px rgba(60, 64, 67, 0.3), 0px 1px 3px 1px rgba(60, 64, 67, 0.15);\n",
              "      fill: #174EA6;\n",
              "    }\n",
              "\n",
              "    [theme=dark] .colab-df-convert {\n",
              "      background-color: #3B4455;\n",
              "      fill: #D2E3FC;\n",
              "    }\n",
              "\n",
              "    [theme=dark] .colab-df-convert:hover {\n",
              "      background-color: #434B5C;\n",
              "      box-shadow: 0px 1px 3px 1px rgba(0, 0, 0, 0.15);\n",
              "      filter: drop-shadow(0px 1px 2px rgba(0, 0, 0, 0.3));\n",
              "      fill: #FFFFFF;\n",
              "    }\n",
              "  </style>\n",
              "\n",
              "      <script>\n",
              "        const buttonEl =\n",
              "          document.querySelector('#df-2365ec90-4ced-460b-9081-ddfb326e541d button.colab-df-convert');\n",
              "        buttonEl.style.display =\n",
              "          google.colab.kernel.accessAllowed ? 'block' : 'none';\n",
              "\n",
              "        async function convertToInteractive(key) {\n",
              "          const element = document.querySelector('#df-2365ec90-4ced-460b-9081-ddfb326e541d');\n",
              "          const dataTable =\n",
              "            await google.colab.kernel.invokeFunction('convertToInteractive',\n",
              "                                                     [key], {});\n",
              "          if (!dataTable) return;\n",
              "\n",
              "          const docLinkHtml = 'Like what you see? Visit the ' +\n",
              "            '<a target=\"_blank\" href=https://colab.research.google.com/notebooks/data_table.ipynb>data table notebook</a>'\n",
              "            + ' to learn more about interactive tables.';\n",
              "          element.innerHTML = '';\n",
              "          dataTable['output_type'] = 'display_data';\n",
              "          await google.colab.output.renderOutput(dataTable, element);\n",
              "          const docLink = document.createElement('div');\n",
              "          docLink.innerHTML = docLinkHtml;\n",
              "          element.appendChild(docLink);\n",
              "        }\n",
              "      </script>\n",
              "    </div>\n",
              "  </div>\n",
              "  "
            ]
          },
          "metadata": {},
          "execution_count": 2
        }
      ]
    },
    {
      "cell_type": "code",
      "source": [
        "#number of trading days\n",
        "df.shape"
      ],
      "metadata": {
        "colab": {
          "base_uri": "https://localhost:8080/"
        },
        "id": "JHbdXN8lzKXc",
        "outputId": "c5310308-6901-41ee-84eb-9d85badff6ea"
      },
      "execution_count": 4,
      "outputs": [
        {
          "output_type": "execute_result",
          "data": {
            "text/plain": [
              "(254, 7)"
            ]
          },
          "metadata": {},
          "execution_count": 4
        }
      ]
    },
    {
      "cell_type": "code",
      "source": [
        "plt.figure(figsize=(16,8))\n",
        "plt.xlabel(\"Days\")\n",
        "plt.ylabel(\"Close Price ($)\")\n",
        "plt.title(\"Netflix\")\n",
        "plt.plot(df['Close'],color='b')"
      ],
      "metadata": {
        "colab": {
          "base_uri": "https://localhost:8080/",
          "height": 530
        },
        "id": "97uWkNi3zObc",
        "outputId": "e0b6427a-3c41-4815-ac92-5e510a12feac"
      },
      "execution_count": 5,
      "outputs": [
        {
          "output_type": "execute_result",
          "data": {
            "text/plain": [
              "[<matplotlib.lines.Line2D at 0x7f8ff2f68f10>]"
            ]
          },
          "metadata": {},
          "execution_count": 5
        },
        {
          "output_type": "display_data",
          "data": {
            "text/plain": [
              "<Figure size 1152x576 with 1 Axes>"
            ],
            "image/png": "[encoded data removed]"
          },
          "metadata": {
            "needs_background": "light"
          }
        }
      ]
    },
    {
      "cell_type": "code",
      "source": [
        "#get the close price\n",
        "price = df[['Close']]\n",
        "price.head()"
      ],
      "metadata": {
        "colab": {
          "base_uri": "https://localhost:8080/",
          "height": 204
        },
        "id": "QDBVedOtzqWg",
        "outputId": "f993dc5b-f617-45c7-9bb3-072b18f4fdb2"
      },
      "execution_count": 7,
      "outputs": [
        {
          "output_type": "execute_result",
          "data": {
            "text/plain": [
              "        Close\n",
              "0  508.049988\n",
              "1  513.950012\n",
              "2  513.390015\n",
              "3  521.659973\n",
              "4  539.419983"
            ],
            "text/html": [
              "\n",
              "  <div id=\"df-b9b643c9-2ec4-4af3-b60e-3af1a8a7ec51\">\n",
              "    <div class=\"colab-df-container\">\n",
              "      <div>\n",
              "<style scoped>\n",
              "    .dataframe tbody tr th:only-of-type {\n",
              "        vertical-align: middle;\n",
              "    }\n",
              "\n",
              "    .dataframe tbody tr th {\n",
              "        vertical-align: top;\n",
              "    }\n",
              "\n",
              "    .dataframe thead th {\n",
              "        text-align: right;\n",
              "    }\n",
              "</style>\n",
              "<table border=\"1\" class=\"dataframe\">\n",
              "  <thead>\n",
              "    <tr style=\"text-align: right;\">\n",
              "      <th></th>\n",
              "      <th>Close</th>\n",
              "    </tr>\n",
              "  </thead>\n",
              "  <tbody>\n",
              "    <tr>\n",
              "      <th>0</th>\n",
              "      <td>508.049988</td>\n",
              "    </tr>\n",
              "    <tr>\n",
              "      <th>1</th>\n",
              "      <td>513.950012</td>\n",
              "    </tr>\n",
              "    <tr>\n",
              "      <th>2</th>\n",
              "      <td>513.390015</td>\n",
              "    </tr>\n",
              "    <tr>\n",
              "      <th>3</th>\n",
              "      <td>521.659973</td>\n",
              "    </tr>\n",
              "    <tr>\n",
              "      <th>4</th>\n",
              "      <td>539.419983</td>\n",
              "    </tr>\n",
              "  </tbody>\n",
              "</table>\n",
              "</div>\n",
              "      <button class=\"colab-df-convert\" onclick=\"convertToInteractive('df-b9b643c9-2ec4-4af3-b60e-3af1a8a7ec51')\"\n",
              "              title=\"Convert this dataframe to an interactive table.\"\n",
              "              style=\"display:none;\">\n",
              "        \n",
              "  <svg xmlns=\"http://www.w3.org/2000/svg\" height=\"24px\"viewBox=\"0 0 24 24\"\n",
              "       width=\"24px\">\n",
              "    <path d=\"M0 0h24v24H0V0z\" fill=\"none\"/>\n",
              "    <path d=\"M18.56 5.44l.94 2.06.94-2.06 2.06-.94-2.06-.94-.94-2.06-.94 2.06-2.06.94zm-11 1L8.5 8.5l.94-2.06 2.06-.94-2.06-.94L8.5 2.5l-.94 2.06-2.06.94zm10 10l.94 2.06.94-2.06 2.06-.94-2.06-.94-.94-2.06-.94 2.06-2.06.94z\"/><path d=\"M17.41 7.96l-1.37-1.37c-.4-.4-.92-.59-1.43-.59-.52 0-1.04.2-1.43.59L10.3 9.45l-7.72 7.72c-.78.78-.78 2.05 0 2.83L4 21.41c.39.39.9.59 1.41.59.51 0 1.02-.2 1.41-.59l7.78-7.78 2.81-2.81c.8-.78.8-2.07 0-2.86zM5.41 20L4 18.59l7.72-7.72 1.47 1.35L5.41 20z\"/>\n",
              "  </svg>\n",
              "      </button>\n",
              "      \n",
              "  <style>\n",
              "    .colab-df-container {\n",
              "      display:flex;\n",
              "      flex-wrap:wrap;\n",
              "      gap: 12px;\n",
              "    }\n",
              "\n",
              "    .colab-df-convert {\n",
              "      background-color: #E8F0FE;\n",
              "      border: none;\n",
              "      border-radius: 50%;\n",
              "      cursor: pointer;\n",
              "      display: none;\n",
              "      fill: #1967D2;\n",
              "      height: 32px;\n",
              "      padding: 0 0 0 0;\n",
              "      width: 32px;\n",
              "    }\n",
              "\n",
              "    .colab-df-convert:hover {\n",
              "      background-color: #E2EBFA;\n",
              "      box-shadow: 0px 1px 2px rgba(60, 64, 67, 0.3), 0px 1px 3px 1px rgba(60, 64, 67, 0.15);\n",
              "      fill: #174EA6;\n",
              "    }\n",
              "\n",
              "    [theme=dark] .colab-df-convert {\n",
              "      background-color: #3B4455;\n",
              "      fill: #D2E3FC;\n",
              "    }\n",
              "\n",
              "    [theme=dark] .colab-df-convert:hover {\n",
              "      background-color: #434B5C;\n",
              "      box-shadow: 0px 1px 3px 1px rgba(0, 0, 0, 0.15);\n",
              "      filter: drop-shadow(0px 1px 2px rgba(0, 0, 0, 0.3));\n",
              "      fill: #FFFFFF;\n",
              "    }\n",
              "  </style>\n",
              "\n",
              "      <script>\n",
              "        const buttonEl =\n",
              "          document.querySelector('#df-b9b643c9-2ec4-4af3-b60e-3af1a8a7ec51 button.colab-df-convert');\n",
              "        buttonEl.style.display =\n",
              "          google.colab.kernel.accessAllowed ? 'block' : 'none';\n",
              "\n",
              "        async function convertToInteractive(key) {\n",
              "          const element = document.querySelector('#df-b9b643c9-2ec4-4af3-b60e-3af1a8a7ec51');\n",
              "          const dataTable =\n",
              "            await google.colab.kernel.invokeFunction('convertToInteractive',\n",
              "                                                     [key], {});\n",
              "          if (!dataTable) return;\n",
              "\n",
              "          const docLinkHtml = 'Like what you see? Visit the ' +\n",
              "            '<a target=\"_blank\" href=https://colab.research.google.com/notebooks/data_table.ipynb>data table notebook</a>'\n",
              "            + ' to learn more about interactive tables.';\n",
              "          element.innerHTML = '';\n",
              "          dataTable['output_type'] = 'display_data';\n",
              "          await google.colab.output.renderOutput(dataTable, element);\n",
              "          const docLink = document.createElement('div');\n",
              "          docLink.innerHTML = docLinkHtml;\n",
              "          element.appendChild(docLink);\n",
              "        }\n",
              "      </script>\n",
              "    </div>\n",
              "  </div>\n",
              "  "
            ]
          },
          "metadata": {},
          "execution_count": 7
        }
      ]
    },
    {
      "cell_type": "code",
      "source": [
        "future_days = 30\n",
        "price['Prediction'] = price[['Close']].shift(-future_days)\n",
        "price.tail()"
      ],
      "metadata": {
        "colab": {
          "base_uri": "https://localhost:8080/",
          "height": 326
        },
        "id": "HhrTD0zJz8wa",
        "outputId": "fe0c0a70-742c-4377-8864-3cc842e7feb2"
      },
      "execution_count": 9,
      "outputs": [
        {
          "output_type": "stream",
          "name": "stderr",
          "text": [
            "/usr/local/lib/python3.7/dist-packages/ipykernel_launcher.py:2: SettingWithCopyWarning: \n",
            "A value is trying to be set on a copy of a slice from a DataFrame.\n",
            "Try using .loc[row_indexer,col_indexer] = value instead\n",
            "\n",
            "See the caveats in the documentation: https://pandas.pydata.org/pandas-docs/stable/user_guide/indexing.html#returning-a-view-versus-a-copy\n",
            "  \n"
          ]
        },
        {
          "output_type": "execute_result",
          "data": {
            "text/plain": [
              "          Close  Prediction\n",
              "249  382.920013         NaN\n",
              "250  374.489990         NaN\n",
              "251  375.709991         NaN\n",
              "252  373.850006         NaN\n",
              "253  373.850006         NaN"
            ],
            "text/html": [
              "\n",
              "  <div id=\"df-436caadd-14b7-4fe1-a8d4-26989c05d402\">\n",
              "    <div class=\"colab-df-container\">\n",
              "      <div>\n",
              "<style scoped>\n",
              "    .dataframe tbody tr th:only-of-type {\n",
              "        vertical-align: middle;\n",
              "    }\n",
              "\n",
              "    .dataframe tbody tr th {\n",
              "        vertical-align: top;\n",
              "    }\n",
              "\n",
              "    .dataframe thead th {\n",
              "        text-align: right;\n",
              "    }\n",
              "</style>\n",
              "<table border=\"1\" class=\"dataframe\">\n",
              "  <thead>\n",
              "    <tr style=\"text-align: right;\">\n",
              "      <th></th>\n",
              "      <th>Close</th>\n",
              "      <th>Prediction</th>\n",
              "    </tr>\n",
              "  </thead>\n",
              "  <tbody>\n",
              "    <tr>\n",
              "      <th>249</th>\n",
              "      <td>382.920013</td>\n",
              "      <td>NaN</td>\n",
              "    </tr>\n",
              "    <tr>\n",
              "      <th>250</th>\n",
              "      <td>374.489990</td>\n",
              "      <td>NaN</td>\n",
              "    </tr>\n",
              "    <tr>\n",
              "      <th>251</th>\n",
              "      <td>375.709991</td>\n",
              "      <td>NaN</td>\n",
              "    </tr>\n",
              "    <tr>\n",
              "      <th>252</th>\n",
              "      <td>373.850006</td>\n",
              "      <td>NaN</td>\n",
              "    </tr>\n",
              "    <tr>\n",
              "      <th>253</th>\n",
              "      <td>373.850006</td>\n",
              "      <td>NaN</td>\n",
              "    </tr>\n",
              "  </tbody>\n",
              "</table>\n",
              "</div>\n",
              "      <button class=\"colab-df-convert\" onclick=\"convertToInteractive('df-436caadd-14b7-4fe1-a8d4-26989c05d402')\"\n",
              "              title=\"Convert this dataframe to an interactive table.\"\n",
              "              style=\"display:none;\">\n",
              "        \n",
              "  <svg xmlns=\"http://www.w3.org/2000/svg\" height=\"24px\"viewBox=\"0 0 24 24\"\n",
              "       width=\"24px\">\n",
              "    <path d=\"M0 0h24v24H0V0z\" fill=\"none\"/>\n",
              "    <path d=\"M18.56 5.44l.94 2.06.94-2.06 2.06-.94-2.06-.94-.94-2.06-.94 2.06-2.06.94zm-11 1L8.5 8.5l.94-2.06 2.06-.94-2.06-.94L8.5 2.5l-.94 2.06-2.06.94zm10 10l.94 2.06.94-2.06 2.06-.94-2.06-.94-.94-2.06-.94 2.06-2.06.94z\"/><path d=\"M17.41 7.96l-1.37-1.37c-.4-.4-.92-.59-1.43-.59-.52 0-1.04.2-1.43.59L10.3 9.45l-7.72 7.72c-.78.78-.78 2.05 0 2.83L4 21.41c.39.39.9.59 1.41.59.51 0 1.02-.2 1.41-.59l7.78-7.78 2.81-2.81c.8-.78.8-2.07 0-2.86zM5.41 20L4 18.59l7.72-7.72 1.47 1.35L5.41 20z\"/>\n",
              "  </svg>\n",
              "      </button>\n",
              "      \n",
              "  <style>\n",
              "    .colab-df-container {\n",
              "      display:flex;\n",
              "      flex-wrap:wrap;\n",
              "      gap: 12px;\n",
              "    }\n",
              "\n",
              "    .colab-df-convert {\n",
              "      background-color: #E8F0FE;\n",
              "      border: none;\n",
              "      border-radius: 50%;\n",
              "      cursor: pointer;\n",
              "      display: none;\n",
              "      fill: #1967D2;\n",
              "      height: 32px;\n",
              "      padding: 0 0 0 0;\n",
              "      width: 32px;\n",
              "    }\n",
              "\n",
              "    .colab-df-convert:hover {\n",
              "      background-color: #E2EBFA;\n",
              "      box-shadow: 0px 1px 2px rgba(60, 64, 67, 0.3), 0px 1px 3px 1px rgba(60, 64, 67, 0.15);\n",
              "      fill: #174EA6;\n",
              "    }\n",
              "\n",
              "    [theme=dark] .colab-df-convert {\n",
              "      background-color: #3B4455;\n",
              "      fill: #D2E3FC;\n",
              "    }\n",
              "\n",
              "    [theme=dark] .colab-df-convert:hover {\n",
              "      background-color: #434B5C;\n",
              "      box-shadow: 0px 1px 3px 1px rgba(0, 0, 0, 0.15);\n",
              "      filter: drop-shadow(0px 1px 2px rgba(0, 0, 0, 0.3));\n",
              "      fill: #FFFFFF;\n",
              "    }\n",
              "  </style>\n",
              "\n",
              "      <script>\n",
              "        const buttonEl =\n",
              "          document.querySelector('#df-436caadd-14b7-4fe1-a8d4-26989c05d402 button.colab-df-convert');\n",
              "        buttonEl.style.display =\n",
              "          google.colab.kernel.accessAllowed ? 'block' : 'none';\n",
              "\n",
              "        async function convertToInteractive(key) {\n",
              "          const element = document.querySelector('#df-436caadd-14b7-4fe1-a8d4-26989c05d402');\n",
              "          const dataTable =\n",
              "            await google.colab.kernel.invokeFunction('convertToInteractive',\n",
              "                                                     [key], {});\n",
              "          if (!dataTable) return;\n",
              "\n",
              "          const docLinkHtml = 'Like what you see? Visit the ' +\n",
              "            '<a target=\"_blank\" href=https://colab.research.google.com/notebooks/data_table.ipynb>data table notebook</a>'\n",
              "            + ' to learn more about interactive tables.';\n",
              "          element.innerHTML = '';\n",
              "          dataTable['output_type'] = 'display_data';\n",
              "          await google.colab.output.renderOutput(dataTable, element);\n",
              "          const docLink = document.createElement('div');\n",
              "          docLink.innerHTML = docLinkHtml;\n",
              "          element.appendChild(docLink);\n",
              "        }\n",
              "      </script>\n",
              "    </div>\n",
              "  </div>\n",
              "  "
            ]
          },
          "metadata": {},
          "execution_count": 9
        }
      ]
    },
    {
      "cell_type": "code",
      "source": [
        "X = array(price.drop(['Prediction'],1))[:-future_days]\n",
        "X"
      ],
      "metadata": {
        "colab": {
          "base_uri": "https://localhost:8080/"
        },
        "id": "ezsDWXkO0Zqd",
        "outputId": "02e9e1dc-f192-4446-d933-6750039716ce"
      },
      "execution_count": 10,
      "outputs": [
        {
          "output_type": "stream",
          "name": "stderr",
          "text": [
            "/usr/local/lib/python3.7/dist-packages/ipykernel_launcher.py:1: FutureWarning: In a future version of pandas all arguments of DataFrame.drop except for the argument 'labels' will be keyword-only\n",
            "  \"\"\"Entry point for launching an IPython kernel.\n"
          ]
        },
        {
          "output_type": "execute_result",
          "data": {
            "text/plain": [
              "array([[508.049988],\n",
              "       [513.950012],\n",
              "       [513.390015],\n",
              "       [521.659973],\n",
              "       [539.419983],\n",
              "       [540.669983],\n",
              "       [544.530029],\n",
              "       [546.98999 ],\n",
              "       [554.580017],\n",
              "       [555.309998],\n",
              "       [552.780029],\n",
              "       [553.72998 ],\n",
              "       [540.02002 ],\n",
              "       [549.219971],\n",
              "       [546.539978],\n",
              "       [554.440002],\n",
              "       [549.570007],\n",
              "       [508.899994],\n",
              "       [508.779999],\n",
              "       [505.549988],\n",
              "       [510.299988],\n",
              "       [505.549988],\n",
              "       [506.519989],\n",
              "       [509.      ],\n",
              "       [513.469971],\n",
              "       [509.109985],\n",
              "       [503.179993],\n",
              "       [496.079987],\n",
              "       [499.549988],\n",
              "       [503.839996],\n",
              "       [486.690002],\n",
              "       [495.079987],\n",
              "       [484.980011],\n",
              "       [486.660004],\n",
              "       [493.369995],\n",
              "       [488.940002],\n",
              "       [486.279999],\n",
              "       [487.700012],\n",
              "       [501.670013],\n",
              "       [497.890015],\n",
              "       [502.899994],\n",
              "       [501.339996],\n",
              "       [502.359985],\n",
              "       [503.859985],\n",
              "       [502.809998],\n",
              "       [499.079987],\n",
              "       [499.23999 ],\n",
              "       [489.429993],\n",
              "       [494.73999 ],\n",
              "       [494.660004],\n",
              "       [492.390015],\n",
              "       [485.809998],\n",
              "       [487.269989],\n",
              "       [488.769989],\n",
              "       [499.890015],\n",
              "       [491.899994],\n",
              "       [492.410004],\n",
              "       [498.339996],\n",
              "       [500.769989],\n",
              "       [497.      ],\n",
              "       [508.820007],\n",
              "       [512.73999 ],\n",
              "       [518.059998],\n",
              "       [527.070007],\n",
              "       [533.030029],\n",
              "       [533.5     ],\n",
              "       [528.210022],\n",
              "       [533.539978],\n",
              "       [533.97998 ],\n",
              "       [541.640015],\n",
              "       [535.960022],\n",
              "       [530.76001 ],\n",
              "       [535.97998 ],\n",
              "       [537.309998],\n",
              "       [540.679993],\n",
              "       [547.950012],\n",
              "       [542.950012],\n",
              "       [530.309998],\n",
              "       [532.280029],\n",
              "       [531.049988],\n",
              "       [513.630005],\n",
              "       [511.769989],\n",
              "       [515.409973],\n",
              "       [516.48999 ],\n",
              "       [518.909973],\n",
              "       [519.299988],\n",
              "       [514.25    ],\n",
              "       [517.570007],\n",
              "       [515.150024],\n",
              "       [510.820007],\n",
              "       [517.349976],\n",
              "       [524.890015],\n",
              "       [520.549988],\n",
              "       [519.969971],\n",
              "       [515.840027],\n",
              "       [512.400024],\n",
              "       [510.720001],\n",
              "       [515.919983],\n",
              "       [517.919983],\n",
              "       [518.909973],\n",
              "       [521.869995],\n",
              "       [543.710022],\n",
              "       [546.880005],\n",
              "       [553.330017],\n",
              "       [553.409973],\n",
              "       [547.580017],\n",
              "       [550.119995],\n",
              "       [558.919983],\n",
              "       [566.179993],\n",
              "       [569.190002],\n",
              "       [582.070007],\n",
              "       [588.549988],\n",
              "       [590.530029],\n",
              "       [606.710022],\n",
              "       [606.049988],\n",
              "       [597.539978],\n",
              "       [598.719971],\n",
              "       [589.289978],\n",
              "       [577.76001 ],\n",
              "       [582.869995],\n",
              "       [586.5     ],\n",
              "       [589.349976],\n",
              "       [575.429993],\n",
              "       [573.140015],\n",
              "       [590.650024],\n",
              "       [593.26001 ],\n",
              "       [592.390015],\n",
              "       [592.640015],\n",
              "       [583.849976],\n",
              "       [599.059998],\n",
              "       [610.340027],\n",
              "       [613.150024],\n",
              "       [603.349976],\n",
              "       [634.809998],\n",
              "       [639.099976],\n",
              "       [631.849976],\n",
              "       [632.659973],\n",
              "       [627.039978],\n",
              "       [624.940002],\n",
              "       [629.76001 ],\n",
              "       [633.799988],\n",
              "       [628.289978],\n",
              "       [637.969971],\n",
              "       [639.      ],\n",
              "       [625.140015],\n",
              "       [653.159973],\n",
              "       [664.780029],\n",
              "       [671.659973],\n",
              "       [668.52002 ],\n",
              "       [662.919983],\n",
              "       [674.049988],\n",
              "       [690.309998],\n",
              "       [681.169983],\n",
              "       [677.719971],\n",
              "       [688.289978],\n",
              "       [668.400024],\n",
              "       [645.719971],\n",
              "       [651.450012],\n",
              "       [655.98999 ],\n",
              "       [646.909973],\n",
              "       [657.580017],\n",
              "       [682.609985],\n",
              "       [679.330017],\n",
              "       [687.400024],\n",
              "       [691.690002],\n",
              "       [682.02002 ],\n",
              "       [678.799988],\n",
              "       [659.200012],\n",
              "       [654.059998],\n",
              "       [658.289978],\n",
              "       [665.640015],\n",
              "       [663.840027],\n",
              "       [641.900024],\n",
              "       [617.77002 ],\n",
              "       [616.469971],\n",
              "       [602.130005],\n",
              "       [612.690002],\n",
              "       [625.580017],\n",
              "       [628.080017],\n",
              "       [611.      ],\n",
              "       [611.659973],\n",
              "       [604.559998],\n",
              "       [597.98999 ],\n",
              "       [605.039978],\n",
              "       [591.059998],\n",
              "       [586.72998 ],\n",
              "       [593.73999 ],\n",
              "       [604.919983],\n",
              "       [614.23999 ],\n",
              "       [614.090027],\n",
              "       [613.119995],\n",
              "       [610.710022],\n",
              "       [610.539978],\n",
              "       [612.090027],\n",
              "       [602.440002],\n",
              "       [597.369995],\n",
              "       [591.150024],\n",
              "       [567.52002 ],\n",
              "       [553.289978],\n",
              "       [541.059998],\n",
              "       [539.849976],\n",
              "       [540.840027],\n",
              "       [537.219971],\n",
              "       [519.200012],\n",
              "       [525.690002],\n",
              "       [510.799988],\n",
              "       [515.859985],\n",
              "       [508.25    ],\n",
              "       [397.5     ],\n",
              "       [387.149994],\n",
              "       [366.420013],\n",
              "       [359.700012],\n",
              "       [386.700012],\n",
              "       [384.359985],\n",
              "       [427.140015],\n",
              "       [457.130005],\n",
              "       [429.480011],\n",
              "       [405.600006],\n",
              "       [410.170013],\n",
              "       [402.100006],\n",
              "       [403.529999],\n",
              "       [412.890015],\n",
              "       [406.269989],\n",
              "       [391.309998]])"
            ]
          },
          "metadata": {},
          "execution_count": 10
        }
      ]
    },
    {
      "cell_type": "code",
      "source": [
        "y = array(price['Prediction'])[:-future_days]\n",
        "y"
      ],
      "metadata": {
        "colab": {
          "base_uri": "https://localhost:8080/"
        },
        "id": "lE_Bd1fF00lA",
        "outputId": "26f60d31-5860-4ce7-873d-4887c6884dda"
      },
      "execution_count": 11,
      "outputs": [
        {
          "output_type": "execute_result",
          "data": {
            "text/plain": [
              "array([486.690002, 495.079987, 484.980011, 486.660004, 493.369995,\n",
              "       488.940002, 486.279999, 487.700012, 501.670013, 497.890015,\n",
              "       502.899994, 501.339996, 502.359985, 503.859985, 502.809998,\n",
              "       499.079987, 499.23999 , 489.429993, 494.73999 , 494.660004,\n",
              "       492.390015, 485.809998, 487.269989, 488.769989, 499.890015,\n",
              "       491.899994, 492.410004, 498.339996, 500.769989, 497.      ,\n",
              "       508.820007, 512.73999 , 518.059998, 527.070007, 533.030029,\n",
              "       533.5     , 528.210022, 533.539978, 533.97998 , 541.640015,\n",
              "       535.960022, 530.76001 , 535.97998 , 537.309998, 540.679993,\n",
              "       547.950012, 542.950012, 530.309998, 532.280029, 531.049988,\n",
              "       513.630005, 511.769989, 515.409973, 516.48999 , 518.909973,\n",
              "       519.299988, 514.25    , 517.570007, 515.150024, 510.820007,\n",
              "       517.349976, 524.890015, 520.549988, 519.969971, 515.840027,\n",
              "       512.400024, 510.720001, 515.919983, 517.919983, 518.909973,\n",
              "       521.869995, 543.710022, 546.880005, 553.330017, 553.409973,\n",
              "       547.580017, 550.119995, 558.919983, 566.179993, 569.190002,\n",
              "       582.070007, 588.549988, 590.530029, 606.710022, 606.049988,\n",
              "       597.539978, 598.719971, 589.289978, 577.76001 , 582.869995,\n",
              "       586.5     , 589.349976, 575.429993, 573.140015, 590.650024,\n",
              "       593.26001 , 592.390015, 592.640015, 583.849976, 599.059998,\n",
              "       610.340027, 613.150024, 603.349976, 634.809998, 639.099976,\n",
              "       631.849976, 632.659973, 627.039978, 624.940002, 629.76001 ,\n",
              "       633.799988, 628.289978, 637.969971, 639.      , 625.140015,\n",
              "       653.159973, 664.780029, 671.659973, 668.52002 , 662.919983,\n",
              "       674.049988, 690.309998, 681.169983, 677.719971, 688.289978,\n",
              "       668.400024, 645.719971, 651.450012, 655.98999 , 646.909973,\n",
              "       657.580017, 682.609985, 679.330017, 687.400024, 691.690002,\n",
              "       682.02002 , 678.799988, 659.200012, 654.059998, 658.289978,\n",
              "       665.640015, 663.840027, 641.900024, 617.77002 , 616.469971,\n",
              "       602.130005, 612.690002, 625.580017, 628.080017, 611.      ,\n",
              "       611.659973, 604.559998, 597.98999 , 605.039978, 591.059998,\n",
              "       586.72998 , 593.73999 , 604.919983, 614.23999 , 614.090027,\n",
              "       613.119995, 610.710022, 610.539978, 612.090027, 602.440002,\n",
              "       597.369995, 591.150024, 567.52002 , 553.289978, 541.059998,\n",
              "       539.849976, 540.840027, 537.219971, 519.200012, 525.690002,\n",
              "       510.799988, 515.859985, 508.25    , 397.5     , 387.149994,\n",
              "       366.420013, 359.700012, 386.700012, 384.359985, 427.140015,\n",
              "       457.130005, 429.480011, 405.600006, 410.170013, 402.100006,\n",
              "       403.529999, 412.890015, 406.269989, 391.309998, 396.570007,\n",
              "       407.459991, 398.079987, 386.670013, 391.290009, 377.380005,\n",
              "       367.459991, 390.029999, 390.799988, 394.519989, 386.23999 ,\n",
              "       380.029999, 368.070007, 361.730011, 350.26001 , 341.76001 ,\n",
              "       358.790009, 356.769989, 340.320007, 331.01001 , 343.75    ,\n",
              "       357.529999, 371.399994, 380.600006, 374.589996, 382.920013,\n",
              "       374.48999 , 375.709991, 373.850006, 373.850006])"
            ]
          },
          "metadata": {},
          "execution_count": 11
        }
      ]
    },
    {
      "cell_type": "code",
      "source": [
        "from sklearn.model_selection import train_test_split\n",
        "X_train, X_test, y_train, y_test = train_test_split(X, y, test_size=0.25)"
      ],
      "metadata": {
        "id": "xE7R0A-51KJL"
      },
      "execution_count": 12,
      "outputs": []
    },
    {
      "cell_type": "code",
      "source": [
        "from sklearn.tree import DecisionTreeRegressor\n",
        "from sklearn.linear_model import LinearRegression"
      ],
      "metadata": {
        "id": "3gFzHVPj1e0C"
      },
      "execution_count": 13,
      "outputs": []
    },
    {
      "cell_type": "code",
      "source": [
        "tree = DecisionTreeRegressor()\n",
        "lr = LinearRegression()\n",
        "tree.fit(X_train, y_train)\n",
        "lr.fit(X_train, y_train)"
      ],
      "metadata": {
        "colab": {
          "base_uri": "https://localhost:8080/"
        },
        "id": "wRkAfKGz2myA",
        "outputId": "74e91658-e12f-4c9a-8e60-9850033ece98"
      },
      "execution_count": 15,
      "outputs": [
        {
          "output_type": "execute_result",
          "data": {
            "text/plain": [
              "LinearRegression()"
            ]
          },
          "metadata": {},
          "execution_count": 15
        }
      ]
    },
    {
      "cell_type": "code",
      "source": [
        "X_future = price.drop(['Prediction'],1)[:-future_days]\n",
        "X_future = X_future.tail(future_days)\n",
        "X_future = array(X_future)"
      ],
      "metadata": {
        "colab": {
          "base_uri": "https://localhost:8080/"
        },
        "id": "oFWu54g626lI",
        "outputId": "886e9aae-e546-4930-8d21-4c884c579642"
      },
      "execution_count": 16,
      "outputs": [
        {
          "output_type": "stream",
          "name": "stderr",
          "text": [
            "/usr/local/lib/python3.7/dist-packages/ipykernel_launcher.py:1: FutureWarning: In a future version of pandas all arguments of DataFrame.drop except for the argument 'labels' will be keyword-only\n",
            "  \"\"\"Entry point for launching an IPython kernel.\n"
          ]
        }
      ]
    },
    {
      "cell_type": "code",
      "source": [
        "X_future"
      ],
      "metadata": {
        "colab": {
          "base_uri": "https://localhost:8080/"
        },
        "id": "4-W8emrN32JQ",
        "outputId": "d3e27a94-1f02-4a11-af4f-c7002aae7bde"
      },
      "execution_count": 17,
      "outputs": [
        {
          "output_type": "execute_result",
          "data": {
            "text/plain": [
              "array([[602.440002],\n",
              "       [597.369995],\n",
              "       [591.150024],\n",
              "       [567.52002 ],\n",
              "       [553.289978],\n",
              "       [541.059998],\n",
              "       [539.849976],\n",
              "       [540.840027],\n",
              "       [537.219971],\n",
              "       [519.200012],\n",
              "       [525.690002],\n",
              "       [510.799988],\n",
              "       [515.859985],\n",
              "       [508.25    ],\n",
              "       [397.5     ],\n",
              "       [387.149994],\n",
              "       [366.420013],\n",
              "       [359.700012],\n",
              "       [386.700012],\n",
              "       [384.359985],\n",
              "       [427.140015],\n",
              "       [457.130005],\n",
              "       [429.480011],\n",
              "       [405.600006],\n",
              "       [410.170013],\n",
              "       [402.100006],\n",
              "       [403.529999],\n",
              "       [412.890015],\n",
              "       [406.269989],\n",
              "       [391.309998]])"
            ]
          },
          "metadata": {},
          "execution_count": 17
        }
      ]
    },
    {
      "cell_type": "code",
      "source": [
        "tree_p = tree.predict(X_future)\n",
        "lr_p = lr.predict(X_future)\n",
        "print(tree_p)\n",
        "print()\n",
        "print(lr_p)\n",
        "print()"
      ],
      "metadata": {
        "colab": {
          "base_uri": "https://localhost:8080/"
        },
        "id": "StX3TG-b33c-",
        "outputId": "38746183-9ffe-4c01-d874-57d5978052bb"
      },
      "execution_count": 18,
      "outputs": [
        {
          "output_type": "stream",
          "name": "stdout",
          "text": [
            "[396.570007 653.159973 398.079987 624.940002 634.809998 390.029999\n",
            " 367.459991 390.029999 390.799988 394.519989 589.349976 380.029999\n",
            " 368.070007 361.730011 350.26001  341.76001  356.769989 356.769989\n",
            " 340.320007 340.320007 343.75     511.769989 343.75     380.600006\n",
            " 374.589996 382.920013 374.48999  375.709991 380.600006 373.850006]\n",
            "\n",
            "[573.14253636 569.59903293 565.25180252 548.73644065 538.79085227\n",
            " 530.24313703 529.39743462 530.08939602 527.55928494 514.96486711\n",
            " 519.50081782 509.09396518 512.63047247 507.31174057 429.90691544\n",
            " 422.67314204 408.18464945 403.48794062 422.35864291 420.72316318\n",
            " 450.62276355 471.5832144  452.25822162 435.56813032 438.7621763\n",
            " 433.12192817 434.12137159 440.66322623 436.03639142 425.58063081]\n",
            "\n"
          ]
        }
      ]
    },
    {
      "cell_type": "code",
      "source": [
        "predictions = tree_p \n",
        "valid = price[X.shape[0]:]\n",
        "valid['Predictions'] = predictions\n",
        "plt.figure(figsize=(16,8))\n",
        "plt.title(\"Model\")\n",
        "plt.xlabel(\"Days\")\n",
        "plt.ylabel(\"Close Price($)\")\n",
        "plt.plot(price['Close'])\n",
        "plt.plot(valid[['Close', 'Predictions']])\n",
        "plt.legend(['Original', 'Validation', 'Predictions'])\n",
        "plt.show()"
      ],
      "metadata": {
        "colab": {
          "base_uri": "https://localhost:8080/",
          "height": 635
        },
        "id": "Pf-6nEWQ4LYO",
        "outputId": "15dbb072-c0e3-4f1d-c90c-0b4d6edd1710"
      },
      "execution_count": 20,
      "outputs": [
        {
          "output_type": "stream",
          "name": "stderr",
          "text": [
            "/usr/local/lib/python3.7/dist-packages/ipykernel_launcher.py:3: SettingWithCopyWarning: \n",
            "A value is trying to be set on a copy of a slice from a DataFrame.\n",
            "Try using .loc[row_indexer,col_indexer] = value instead\n",
            "\n",
            "See the caveats in the documentation: https://pandas.pydata.org/pandas-docs/stable/user_guide/indexing.html#returning-a-view-versus-a-copy\n",
            "  This is separate from the ipykernel package so we can avoid doing imports until\n"
          ]
        },
        {
          "output_type": "display_data",
          "data": {
            "text/plain": [
              "<Figure size 1152x576 with 1 Axes>"
            ],
            "image/png": "[encoded data removed]"
          },
          "metadata": {
            "needs_background": "light"
          }
        }
      ]
    },
    {
      "cell_type": "code",
      "source": [
        ""
      ],
      "metadata": {
        "id": "ISUJHhlt5NYv"
      },
      "execution_count": null,
      "outputs": []
    }
  ]
}